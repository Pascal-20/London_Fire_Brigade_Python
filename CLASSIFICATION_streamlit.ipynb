{
 "cells": [
  {
   "cell_type": "code",
   "execution_count": 27,
   "id": "8f8576db-8502-4d6f-abcb-e268c6b9b8e7",
   "metadata": {
    "tags": []
   },
   "outputs": [],
   "source": [
    "import pandas as pd"
   ]
  },
  {
   "cell_type": "code",
   "execution_count": 28,
   "id": "bd2104c2-ab35-4c58-bcae-a2e93a003c71",
   "metadata": {
    "tags": []
   },
   "outputs": [],
   "source": [
    "import warnings\n",
    "warnings.filterwarnings(\"ignore\")"
   ]
  },
  {
   "cell_type": "code",
   "execution_count": 29,
   "id": "d1fc281d-8538-4943-b428-6538730e732f",
   "metadata": {
    "tags": []
   },
   "outputs": [],
   "source": [
    "df = pd.read_csv('Dataframe_distance.csv')"
   ]
  },
  {
   "cell_type": "code",
   "execution_count": 30,
   "id": "60c93156-6552-4819-8bbe-8599473381e5",
   "metadata": {
    "tags": []
   },
   "outputs": [
    {
     "data": {
      "text/plain": [
       "(1810019, 55)"
      ]
     },
     "execution_count": 30,
     "metadata": {},
     "output_type": "execute_result"
    }
   ],
   "source": [
    "df.shape"
   ]
  },
  {
   "cell_type": "code",
   "execution_count": 31,
   "id": "79fd9de0-f9f2-41d4-a45a-644d3df6cb6e",
   "metadata": {
    "tags": []
   },
   "outputs": [
    {
     "data": {
      "text/html": [
       "<div>\n",
       "<style scoped>\n",
       "    .dataframe tbody tr th:only-of-type {\n",
       "        vertical-align: middle;\n",
       "    }\n",
       "\n",
       "    .dataframe tbody tr th {\n",
       "        vertical-align: top;\n",
       "    }\n",
       "\n",
       "    .dataframe thead th {\n",
       "        text-align: right;\n",
       "    }\n",
       "</style>\n",
       "<table border=\"1\" class=\"dataframe\">\n",
       "  <thead>\n",
       "    <tr style=\"text-align: right;\">\n",
       "      <th></th>\n",
       "      <th>IncidentNumber</th>\n",
       "      <th>DateOfCall</th>\n",
       "      <th>CalYear_x</th>\n",
       "      <th>TimeOfCall</th>\n",
       "      <th>HourOfCall_x</th>\n",
       "      <th>IncidentGroup</th>\n",
       "      <th>StopCodeDescription</th>\n",
       "      <th>SpecialServiceType</th>\n",
       "      <th>PropertyCategory</th>\n",
       "      <th>PropertyType</th>\n",
       "      <th>...</th>\n",
       "      <th>PlusCode_Description</th>\n",
       "      <th>DelayCodeId</th>\n",
       "      <th>DelayCode_Description</th>\n",
       "      <th>Latitude_station</th>\n",
       "      <th>Longitude_station</th>\n",
       "      <th>Distance</th>\n",
       "      <th>Year</th>\n",
       "      <th>Month</th>\n",
       "      <th>Weekday</th>\n",
       "      <th>DayOfMonth</th>\n",
       "    </tr>\n",
       "  </thead>\n",
       "  <tbody>\n",
       "    <tr>\n",
       "      <th>0</th>\n",
       "      <td>000001-01012016</td>\n",
       "      <td>2016-01-01</td>\n",
       "      <td>2016</td>\n",
       "      <td>00:03:17</td>\n",
       "      <td>0</td>\n",
       "      <td>False Alarm</td>\n",
       "      <td>False alarm - Good intent</td>\n",
       "      <td>No</td>\n",
       "      <td>Dwelling</td>\n",
       "      <td>House - single occupancy</td>\n",
       "      <td>...</td>\n",
       "      <td>Initial Mobilisation</td>\n",
       "      <td>0.0</td>\n",
       "      <td>0</td>\n",
       "      <td>51.487426</td>\n",
       "      <td>0.091466</td>\n",
       "      <td>4.814100</td>\n",
       "      <td>2016</td>\n",
       "      <td>January</td>\n",
       "      <td>Friday</td>\n",
       "      <td>1</td>\n",
       "    </tr>\n",
       "    <tr>\n",
       "      <th>1</th>\n",
       "      <td>000003-01012016</td>\n",
       "      <td>2016-01-01</td>\n",
       "      <td>2016</td>\n",
       "      <td>00:04:41</td>\n",
       "      <td>0</td>\n",
       "      <td>Fire</td>\n",
       "      <td>Primary Fire</td>\n",
       "      <td>No</td>\n",
       "      <td>Dwelling</td>\n",
       "      <td>House - single occupancy</td>\n",
       "      <td>...</td>\n",
       "      <td>Initial Mobilisation</td>\n",
       "      <td>0.0</td>\n",
       "      <td>0</td>\n",
       "      <td>51.487426</td>\n",
       "      <td>0.091466</td>\n",
       "      <td>4.814100</td>\n",
       "      <td>2016</td>\n",
       "      <td>January</td>\n",
       "      <td>Friday</td>\n",
       "      <td>1</td>\n",
       "    </tr>\n",
       "    <tr>\n",
       "      <th>2</th>\n",
       "      <td>000003-01012016</td>\n",
       "      <td>2016-01-01</td>\n",
       "      <td>2016</td>\n",
       "      <td>00:04:41</td>\n",
       "      <td>0</td>\n",
       "      <td>Fire</td>\n",
       "      <td>Primary Fire</td>\n",
       "      <td>No</td>\n",
       "      <td>Dwelling</td>\n",
       "      <td>House - single occupancy</td>\n",
       "      <td>...</td>\n",
       "      <td>Initial Mobilisation</td>\n",
       "      <td>0.0</td>\n",
       "      <td>0</td>\n",
       "      <td>51.487426</td>\n",
       "      <td>0.091466</td>\n",
       "      <td>4.814100</td>\n",
       "      <td>2016</td>\n",
       "      <td>January</td>\n",
       "      <td>Friday</td>\n",
       "      <td>1</td>\n",
       "    </tr>\n",
       "    <tr>\n",
       "      <th>3</th>\n",
       "      <td>000005-01012016</td>\n",
       "      <td>2016-01-01</td>\n",
       "      <td>2016</td>\n",
       "      <td>00:07:17</td>\n",
       "      <td>0</td>\n",
       "      <td>Special Service</td>\n",
       "      <td>Special Service</td>\n",
       "      <td>RTC</td>\n",
       "      <td>Road Vehicle</td>\n",
       "      <td>Multiple Vehicles</td>\n",
       "      <td>...</td>\n",
       "      <td>Initial Mobilisation</td>\n",
       "      <td>0.0</td>\n",
       "      <td>0</td>\n",
       "      <td>51.586507</td>\n",
       "      <td>-0.127303</td>\n",
       "      <td>1.918326</td>\n",
       "      <td>2016</td>\n",
       "      <td>January</td>\n",
       "      <td>Friday</td>\n",
       "      <td>1</td>\n",
       "    </tr>\n",
       "    <tr>\n",
       "      <th>4</th>\n",
       "      <td>000005-01012016</td>\n",
       "      <td>2016-01-01</td>\n",
       "      <td>2016</td>\n",
       "      <td>00:07:17</td>\n",
       "      <td>0</td>\n",
       "      <td>Special Service</td>\n",
       "      <td>Special Service</td>\n",
       "      <td>RTC</td>\n",
       "      <td>Road Vehicle</td>\n",
       "      <td>Multiple Vehicles</td>\n",
       "      <td>...</td>\n",
       "      <td>Initial Mobilisation</td>\n",
       "      <td>0.0</td>\n",
       "      <td>0</td>\n",
       "      <td>51.586507</td>\n",
       "      <td>-0.127303</td>\n",
       "      <td>1.918326</td>\n",
       "      <td>2016</td>\n",
       "      <td>January</td>\n",
       "      <td>Friday</td>\n",
       "      <td>1</td>\n",
       "    </tr>\n",
       "  </tbody>\n",
       "</table>\n",
       "<p>5 rows × 59 columns</p>\n",
       "</div>"
      ],
      "text/plain": [
       "    IncidentNumber DateOfCall  CalYear_x TimeOfCall  HourOfCall_x  \\\n",
       "0  000001-01012016 2016-01-01       2016   00:03:17             0   \n",
       "1  000003-01012016 2016-01-01       2016   00:04:41             0   \n",
       "2  000003-01012016 2016-01-01       2016   00:04:41             0   \n",
       "3  000005-01012016 2016-01-01       2016   00:07:17             0   \n",
       "4  000005-01012016 2016-01-01       2016   00:07:17             0   \n",
       "\n",
       "     IncidentGroup        StopCodeDescription SpecialServiceType  \\\n",
       "0      False Alarm  False alarm - Good intent                 No   \n",
       "1             Fire               Primary Fire                 No   \n",
       "2             Fire               Primary Fire                 No   \n",
       "3  Special Service            Special Service                RTC   \n",
       "4  Special Service            Special Service                RTC   \n",
       "\n",
       "  PropertyCategory               PropertyType  ...  PlusCode_Description  \\\n",
       "0         Dwelling  House - single occupancy   ...  Initial Mobilisation   \n",
       "1         Dwelling  House - single occupancy   ...  Initial Mobilisation   \n",
       "2         Dwelling  House - single occupancy   ...  Initial Mobilisation   \n",
       "3     Road Vehicle         Multiple Vehicles   ...  Initial Mobilisation   \n",
       "4     Road Vehicle         Multiple Vehicles   ...  Initial Mobilisation   \n",
       "\n",
       "  DelayCodeId DelayCode_Description Latitude_station Longitude_station  \\\n",
       "0         0.0                     0        51.487426          0.091466   \n",
       "1         0.0                     0        51.487426          0.091466   \n",
       "2         0.0                     0        51.487426          0.091466   \n",
       "3         0.0                     0        51.586507         -0.127303   \n",
       "4         0.0                     0        51.586507         -0.127303   \n",
       "\n",
       "   Distance  Year    Month  Weekday  DayOfMonth  \n",
       "0  4.814100  2016  January   Friday           1  \n",
       "1  4.814100  2016  January   Friday           1  \n",
       "2  4.814100  2016  January   Friday           1  \n",
       "3  1.918326  2016  January   Friday           1  \n",
       "4  1.918326  2016  January   Friday           1  \n",
       "\n",
       "[5 rows x 59 columns]"
      ]
     },
     "execution_count": 31,
     "metadata": {},
     "output_type": "execute_result"
    }
   ],
   "source": [
    "# Datetime\n",
    "df['DateOfCall'] = pd.to_datetime(df['DateOfCall'])\n",
    "df['Year'] = df['DateOfCall'].dt.year\n",
    "df['Month'] = df['DateOfCall'].dt.month_name()\n",
    "df['Weekday'] = df['DateOfCall'].dt.day_name()\n",
    "df['DayOfMonth'] = df['DateOfCall'].dt.day\n",
    "\n",
    "df.head()"
   ]
  },
  {
   "cell_type": "code",
   "execution_count": 32,
   "id": "8f321248-d7ce-4bb9-9851-320a98aed0e0",
   "metadata": {
    "tags": []
   },
   "outputs": [],
   "source": [
    "#supprimer les colonnes\n",
    "colonnes_a_supprimer = [\"IncidentNumber\", \"DateOfCall\", \"CalYear_x\", \"HourOfCall_x\", \"TimeOfCall\", 'SecondPumpArriving_AttendanceTime', 'FirstPumpArriving_AttendanceTime',\"SecondPumpArriving_DeployedFromStation\", \"StopCodeDescription\", \"PropertyType\", \"Postcode_district\", \"IncGeo_BoroughCode\", \"ProperCase\", \"IncGeo_WardCode\", \"IncGeo_WardName\", 'IncGeo_WardNameNew', 'FRS', 'NumStationsWithPumpsAttending', 'NumPumpsAttending', 'PumpCount', 'PumpMinutesRounded', 'Notional Cost (£)', 'NumCalls', 'CalYear_y', 'HourOfCall_y', 'ResourceMobilisationId', 'Resource_Code', 'PerformanceReporting', 'DateAndTimeMobile', 'DateAndTimeArrived', 'AttendanceTimeSeconds', 'DateAndTimeLeft', 'DeployedFromStation_Code', 'DeployedFromStation_Name', 'DeployedFromLocation', 'PumpOrder', 'PlusCode_Code', 'PlusCode_Description', 'DelayCodeId', \"Latitude\", \"Longitude\", \"Latitude_station\", \"Longitude_station\", \"DateAndTimeMobilised\",]\n",
    "df = df.drop(columns=colonnes_a_supprimer)"
   ]
  },
  {
   "cell_type": "code",
   "execution_count": 33,
   "id": "e76be076-95f4-43ff-a710-16bcf367b05d",
   "metadata": {
    "tags": []
   },
   "outputs": [
    {
     "data": {
      "text/html": [
       "<div>\n",
       "<style scoped>\n",
       "    .dataframe tbody tr th:only-of-type {\n",
       "        vertical-align: middle;\n",
       "    }\n",
       "\n",
       "    .dataframe tbody tr th {\n",
       "        vertical-align: top;\n",
       "    }\n",
       "\n",
       "    .dataframe thead th {\n",
       "        text-align: right;\n",
       "    }\n",
       "</style>\n",
       "<table border=\"1\" class=\"dataframe\">\n",
       "  <thead>\n",
       "    <tr style=\"text-align: right;\">\n",
       "      <th></th>\n",
       "      <th>IncidentGroup</th>\n",
       "      <th>SpecialServiceType</th>\n",
       "      <th>PropertyCategory</th>\n",
       "      <th>AddressQualifier</th>\n",
       "      <th>IncGeo_BoroughName</th>\n",
       "      <th>IncidentStationGround</th>\n",
       "      <th>FirstPumpArriving_DeployedFromStation</th>\n",
       "      <th>TurnoutTimeSeconds</th>\n",
       "      <th>TravelTimeSeconds</th>\n",
       "      <th>DelayCode_Description</th>\n",
       "      <th>Distance</th>\n",
       "      <th>Year</th>\n",
       "      <th>Month</th>\n",
       "      <th>Weekday</th>\n",
       "      <th>DayOfMonth</th>\n",
       "    </tr>\n",
       "  </thead>\n",
       "  <tbody>\n",
       "    <tr>\n",
       "      <th>0</th>\n",
       "      <td>False Alarm</td>\n",
       "      <td>No</td>\n",
       "      <td>Dwelling</td>\n",
       "      <td>Correct incident location</td>\n",
       "      <td>GREENWICH</td>\n",
       "      <td>Plumstead</td>\n",
       "      <td>Plumstead</td>\n",
       "      <td>44.0</td>\n",
       "      <td>121.0</td>\n",
       "      <td>0</td>\n",
       "      <td>4.814100</td>\n",
       "      <td>2016</td>\n",
       "      <td>January</td>\n",
       "      <td>Friday</td>\n",
       "      <td>1</td>\n",
       "    </tr>\n",
       "    <tr>\n",
       "      <th>1</th>\n",
       "      <td>Fire</td>\n",
       "      <td>No</td>\n",
       "      <td>Dwelling</td>\n",
       "      <td>On land associated with building</td>\n",
       "      <td>GREENWICH</td>\n",
       "      <td>Plumstead</td>\n",
       "      <td>Plumstead</td>\n",
       "      <td>61.0</td>\n",
       "      <td>98.0</td>\n",
       "      <td>0</td>\n",
       "      <td>4.814100</td>\n",
       "      <td>2016</td>\n",
       "      <td>January</td>\n",
       "      <td>Friday</td>\n",
       "      <td>1</td>\n",
       "    </tr>\n",
       "    <tr>\n",
       "      <th>2</th>\n",
       "      <td>Fire</td>\n",
       "      <td>No</td>\n",
       "      <td>Dwelling</td>\n",
       "      <td>On land associated with building</td>\n",
       "      <td>GREENWICH</td>\n",
       "      <td>Plumstead</td>\n",
       "      <td>Plumstead</td>\n",
       "      <td>50.0</td>\n",
       "      <td>284.0</td>\n",
       "      <td>0</td>\n",
       "      <td>4.814100</td>\n",
       "      <td>2016</td>\n",
       "      <td>January</td>\n",
       "      <td>Friday</td>\n",
       "      <td>1</td>\n",
       "    </tr>\n",
       "    <tr>\n",
       "      <th>3</th>\n",
       "      <td>Special Service</td>\n",
       "      <td>RTC</td>\n",
       "      <td>Road Vehicle</td>\n",
       "      <td>In street outside gazetteer location</td>\n",
       "      <td>HARINGEY</td>\n",
       "      <td>Hornsey</td>\n",
       "      <td>Hornsey</td>\n",
       "      <td>34.0</td>\n",
       "      <td>238.0</td>\n",
       "      <td>0</td>\n",
       "      <td>1.918326</td>\n",
       "      <td>2016</td>\n",
       "      <td>January</td>\n",
       "      <td>Friday</td>\n",
       "      <td>1</td>\n",
       "    </tr>\n",
       "    <tr>\n",
       "      <th>4</th>\n",
       "      <td>Special Service</td>\n",
       "      <td>RTC</td>\n",
       "      <td>Road Vehicle</td>\n",
       "      <td>In street outside gazetteer location</td>\n",
       "      <td>HARINGEY</td>\n",
       "      <td>Hornsey</td>\n",
       "      <td>Hornsey</td>\n",
       "      <td>74.0</td>\n",
       "      <td>294.0</td>\n",
       "      <td>0</td>\n",
       "      <td>1.918326</td>\n",
       "      <td>2016</td>\n",
       "      <td>January</td>\n",
       "      <td>Friday</td>\n",
       "      <td>1</td>\n",
       "    </tr>\n",
       "  </tbody>\n",
       "</table>\n",
       "</div>"
      ],
      "text/plain": [
       "     IncidentGroup SpecialServiceType PropertyCategory  \\\n",
       "0      False Alarm                 No         Dwelling   \n",
       "1             Fire                 No         Dwelling   \n",
       "2             Fire                 No         Dwelling   \n",
       "3  Special Service                RTC     Road Vehicle   \n",
       "4  Special Service                RTC     Road Vehicle   \n",
       "\n",
       "                       AddressQualifier IncGeo_BoroughName  \\\n",
       "0             Correct incident location          GREENWICH   \n",
       "1      On land associated with building          GREENWICH   \n",
       "2      On land associated with building          GREENWICH   \n",
       "3  In street outside gazetteer location           HARINGEY   \n",
       "4  In street outside gazetteer location           HARINGEY   \n",
       "\n",
       "  IncidentStationGround FirstPumpArriving_DeployedFromStation  \\\n",
       "0             Plumstead                             Plumstead   \n",
       "1             Plumstead                             Plumstead   \n",
       "2             Plumstead                             Plumstead   \n",
       "3               Hornsey                               Hornsey   \n",
       "4               Hornsey                               Hornsey   \n",
       "\n",
       "   TurnoutTimeSeconds  TravelTimeSeconds DelayCode_Description  Distance  \\\n",
       "0                44.0              121.0                     0  4.814100   \n",
       "1                61.0               98.0                     0  4.814100   \n",
       "2                50.0              284.0                     0  4.814100   \n",
       "3                34.0              238.0                     0  1.918326   \n",
       "4                74.0              294.0                     0  1.918326   \n",
       "\n",
       "   Year    Month Weekday  DayOfMonth  \n",
       "0  2016  January  Friday           1  \n",
       "1  2016  January  Friday           1  \n",
       "2  2016  January  Friday           1  \n",
       "3  2016  January  Friday           1  \n",
       "4  2016  January  Friday           1  "
      ]
     },
     "execution_count": 33,
     "metadata": {},
     "output_type": "execute_result"
    }
   ],
   "source": [
    "df.head()"
   ]
  },
  {
   "cell_type": "code",
   "execution_count": 34,
   "id": "972b995a-ccdb-42d5-8b94-930c16b0a8b7",
   "metadata": {
    "tags": []
   },
   "outputs": [],
   "source": [
    "# Supprimer toutes les lignes où TravelTimeSeconds est égal à zéro\n",
    "df = df[df['TravelTimeSeconds'] != 0]\n",
    "\n",
    "# Réinitialiser les index après la suppression des lignes\n",
    "df.reset_index(drop=True, inplace=True)"
   ]
  },
  {
   "cell_type": "code",
   "execution_count": 35,
   "id": "c3ec919a-2cbd-46d0-b308-a69f46983d45",
   "metadata": {
    "tags": []
   },
   "outputs": [
    {
     "name": "stdout",
     "output_type": "stream",
     "text": [
      "Valeur minimale de TravelTimeSeconds : 1.0\n",
      "Valeur maximale de TravelTimeSeconds : 1195.0\n",
      "Valeur minimale de TravelTimeSeconds en minutes : 0.016666666666666666\n",
      "Valeur maximale de TravelTimeSeconds en minutes : 19.916666666666668\n"
     ]
    }
   ],
   "source": [
    "# Valeur minimale et maximale\n",
    "min_travel_time = min(df['TravelTimeSeconds'])\n",
    "max_travel_time = max(df['TravelTimeSeconds'])\n",
    "\n",
    "print(\"Valeur minimale de TravelTimeSeconds :\", min_travel_time)\n",
    "print(\"Valeur maximale de TravelTimeSeconds :\", max_travel_time)\n",
    "\n",
    "min_travel_time_min = min(df['TravelTimeSeconds']) / 60\n",
    "max_travel_time_min = max(df['TravelTimeSeconds']) / 60\n",
    "\n",
    "print(\"Valeur minimale de TravelTimeSeconds en minutes :\", min_travel_time_min)\n",
    "print(\"Valeur maximale de TravelTimeSeconds en minutes :\", max_travel_time_min)"
   ]
  },
  {
   "cell_type": "code",
   "execution_count": 36,
   "id": "1828316b-b6ef-4ffd-81cc-22ae922c6e45",
   "metadata": {
    "tags": []
   },
   "outputs": [
    {
     "name": "stdout",
     "output_type": "stream",
     "text": [
      "Moyenne de TravelTimeSeconds : 277.4228605577073\n",
      "Premier quartile (Q1) : 180.0\n",
      "Deuxième quartile (médiane, Q2) : 254.0\n",
      "Troisième quartile (Q3) : 346.0\n",
      "Moyenne de TravelTimeSeconds en minutes : 4.623714342628455\n",
      "Premier quartile (Q1) en minutes : 3.0\n",
      "Deuxième quartile (médiane, Q2) en minutes : 4.233333333333333\n",
      "Troisième quartile (Q3) en minutes : 5.766666666666667\n"
     ]
    }
   ],
   "source": [
    "# Calcul de la moyenne\n",
    "import numpy as np\n",
    "mean_travel_time = np.mean(df['TravelTimeSeconds'])\n",
    "print(\"Moyenne de TravelTimeSeconds :\", mean_travel_time)\n",
    "\n",
    "# Calcul des quartiles\n",
    "quartiles = np.percentile(df['TravelTimeSeconds'], [25, 50, 75])\n",
    "q1, q2, q3 = quartiles\n",
    "print(\"Premier quartile (Q1) :\", q1)\n",
    "print(\"Deuxième quartile (médiane, Q2) :\", q2)\n",
    "print(\"Troisième quartile (Q3) :\", q3)\n",
    "\n",
    "mean_travel_time_minutes = mean_travel_time / 60\n",
    "q1_minutes = q1 / 60\n",
    "q2_minutes = q2 / 60\n",
    "q3_minutes = q3 / 60\n",
    "\n",
    "print(\"Moyenne de TravelTimeSeconds en minutes :\", mean_travel_time_minutes)\n",
    "print(\"Premier quartile (Q1) en minutes :\", q1_minutes)\n",
    "print(\"Deuxième quartile (médiane, Q2) en minutes :\", q2_minutes)\n",
    "print(\"Troisième quartile (Q3) en minutes :\", q3_minutes)"
   ]
  },
  {
   "cell_type": "code",
   "execution_count": 37,
   "id": "460ea284-67bf-446b-83d4-538725a2ec14",
   "metadata": {
    "tags": []
   },
   "outputs": [],
   "source": [
    "cat_var = list(df.select_dtypes(include=['object']).columns) \n",
    "num_var = list(df.select_dtypes(exclude=['object', 'datetime64']).columns)"
   ]
  },
  {
   "cell_type": "code",
   "execution_count": 38,
   "id": "1570e5a0-5b06-4553-a2ba-7b63cfaddaa7",
   "metadata": {
    "tags": []
   },
   "outputs": [
    {
     "name": "stdout",
     "output_type": "stream",
     "text": [
      "\n",
      "Valeurs uniques pour IncidentGroup:\n",
      "['False Alarm' 'Fire' 'Special Service']\n",
      "\n",
      "Valeurs uniques pour SpecialServiceType:\n",
      "['No' 'RTC' 'Flooding' 'Lift Release' 'Making Safe (not RTC)'\n",
      " 'Effecting entry/exit' 'Spills and Leaks (not RTC)'\n",
      " 'Other Transport incident' 'No action (not false alarm)'\n",
      " 'Assist other agencies' 'Removal of objects from people' 'Advice Only'\n",
      " 'Evacuation (no fire)' 'Suicide/attempts' 'Animal assistance incidents'\n",
      " 'Hazardous Materials incident' 'Medical Incident' 'Stand By'\n",
      " 'Other rescue/release of persons' 'Rescue or evacuation from water'\n",
      " 'Medical Incident - Co-responder' 'Water provision']\n",
      "\n",
      "Valeurs uniques pour PropertyCategory:\n",
      "['Dwelling' 'Road Vehicle' 'Outdoor' 'Other Residential' 'Non Residential'\n",
      " 'Outdoor Structure' 'Rail Vehicle' 'Aircraft' 'Boat']\n",
      "\n",
      "Valeurs uniques pour AddressQualifier:\n",
      "['Correct incident location' 'On land associated with building'\n",
      " 'In street outside gazetteer location' 'Within same building'\n",
      " 'In street close to gazetteer location'\n",
      " 'Open land/water - nearest gazetteer location'\n",
      " 'Nearby address - no building in street'\n",
      " 'In street remote from gazetteer location'\n",
      " 'Nearby address - street not listed in gazetteer'\n",
      " 'On motorway / elevated road' 'Railway land or rolling stock']\n",
      "\n",
      "Valeurs uniques pour IncGeo_BoroughName:\n",
      "['GREENWICH' 'HARINGEY' 'LEWISHAM' 'TOWER HAMLETS' 'LAMBETH' 'EALING'\n",
      " 'NEWHAM' 'ENFIELD' 'HILLINGDON' 'MERTON' 'CITY OF LONDON' 'SOUTHWARK'\n",
      " 'WESTMINSTER' 'BRENT' 'SUTTON' 'ISLINGTON' 'HAVERING' 'HOUNSLOW' 'CAMDEN'\n",
      " 'WANDSWORTH' 'KENSINGTON AND CHELSEA' 'BROMLEY' 'WALTHAM FOREST'\n",
      " 'RICHMOND UPON THAMES' 'BARNET' 'HARROW' 'KINGSTON UPON THAMES' 'HACKNEY'\n",
      " 'BARKING AND DAGENHAM' 'REDBRIDGE' 'CROYDON' 'HAMMERSMITH AND FULHAM'\n",
      " 'BEXLEY']\n",
      "\n",
      "Valeurs uniques pour IncidentStationGround:\n",
      "['Plumstead' 'Hornsey' 'Deptford' 'Homerton' 'Tooting' 'Southall'\n",
      " 'Stratford' 'Enfield' 'Edmonton' 'Hillingdon' 'Mitcham' 'Whitechapel'\n",
      " 'Dowgate' 'Lambeth' 'Dockhead' 'Soho' 'Park Royal' 'Wallington'\n",
      " 'Islington' 'Hornchurch' 'Hayes' 'Dagenham' 'Chelsea' 'Feltham' 'Norbury'\n",
      " 'Peckham' 'Euston' 'Brixton' 'Wandsworth' 'North Kensington' 'Stanmore'\n",
      " 'Plaistow' 'Bromley' 'Leytonstone' 'Heston' 'Battersea' 'Poplar' 'Acton'\n",
      " 'West Hampstead' 'Twickenham' 'Millwall' 'Paddington' 'Shadwell'\n",
      " 'Clapham' 'Southgate' 'Tottenham' 'Kensington' 'Barnet' 'Holloway'\n",
      " 'Harrow' 'Shoreditch' 'Wembley' 'Kingston' 'Ealing' 'Forest Hill'\n",
      " 'West Norwood' 'Woodford' 'Heathrow' 'East Ham' 'Croydon' 'Leyton'\n",
      " 'Barking' 'Wimbledon' 'Stoke Newington' 'Ilford' 'Sidcup' 'Kentish Town'\n",
      " 'Hammersmith' 'Old Kent Road' 'Harold Hill' 'Hendon' 'Richmond'\n",
      " 'Surbiton' 'Finchley' 'Walthamstow' 'Willesden' 'Addington' 'Lewisham'\n",
      " 'Bexley' 'Fulham' 'Northolt' 'Wennington' 'Lee Green' 'Sutton'\n",
      " 'Orpington' 'Erith' 'Bethnal Green' 'Chingford' 'Woodside' 'Biggin Hill'\n",
      " 'Romford' 'Chiswick' 'Ruislip' 'New Cross' 'Mill Hill' 'Purley'\n",
      " 'East Greenwich' 'New Malden' 'Eltham' 'Greenwich']\n",
      "\n",
      "Valeurs uniques pour FirstPumpArriving_DeployedFromStation:\n",
      "['Plumstead' 'Hornsey' 'Deptford' 'Homerton' 'Tooting' 'Heston' 'Wembley'\n",
      " 'Southall' 'Stratford' 'Enfield' 'Southgate' 'Hillingdon' 'Mitcham'\n",
      " 'Whitechapel' 'Shoreditch' 'Plaistow' 'Lambeth' 'Bethnal Green'\n",
      " 'Old Kent Road' 'Paddington' 'Park Royal' 'Wallington' 'Islington'\n",
      " 'Harold Hill' 'Heathrow' 'Euston' 'Romford' 'Chelsea' 'Feltham'\n",
      " 'West Norwood' 'Peckham' 'Brixton' 'Wandsworth' 'Hammersmith' 'Stanmore'\n",
      " 'Bromley' 'Hendon' 'Battersea' 'Poplar' 'Acton' 'West Hampstead'\n",
      " 'Twickenham' 'Kensington' 'North Kensington' 'Tottenham' 'Barnet'\n",
      " 'Holloway' 'Harrow' 'Soho' 'Clapham' 'Kingston' 'Ealing' 'Forest Hill'\n",
      " 'Wimbledon' 'Dowgate' 'Ilford' 'Woodford' 'East Ham' 'Croydon' 'Leyton'\n",
      " 'Stoke Newington' 'Sidcup' 'Kentish Town' 'Chiswick' 'Richmond'\n",
      " 'Surbiton' 'Finchley' 'Walthamstow' 'Willesden' 'Addington' 'Lewisham'\n",
      " 'Hayes' 'Bexley' 'Fulham' 'Barking' 'Erith' 'Woodside' 'Millwall'\n",
      " 'Northolt' 'Wennington' 'Sutton' 'Orpington' 'Chingford' 'Biggin Hill'\n",
      " 'Edmonton' 'Ruislip' 'New Cross' 'Norbury' 'Mill Hill' 'Hornchurch'\n",
      " 'East Greenwich' 'New Malden' 'Beckenham' 'Lee Green' 'Eltham'\n",
      " 'Greenwich' 'Hainault' 'Dagenham' 'Leytonstone' 'Dockhead' 'Purley'\n",
      " 'Shadwell' 'Staines' 'Dartford' 'Hertfordshire' 'Fordbridge']\n",
      "\n",
      "Valeurs uniques pour DelayCode_Description:\n",
      "['0' 'Address incomplete/wrong' 'Arrived but held up - Other reason'\n",
      " 'Not held up' 'Traffic calming measures' 'Traffic, roadworks, etc'\n",
      " 'Weather conditions' 'At drills when mobilised'\n",
      " 'Mob/Radio problems when mobilised' 'Appliance/Equipment defect'\n",
      " 'On outside duty when mobilised']\n",
      "\n",
      "Valeurs uniques pour Month:\n",
      "['January' 'February' 'March' 'April' 'May' 'June' 'July' 'August'\n",
      " 'September' 'October' 'November' 'December']\n",
      "\n",
      "Valeurs uniques pour Weekday:\n",
      "['Friday' 'Saturday' 'Sunday' 'Monday' 'Tuesday' 'Wednesday' 'Thursday']\n"
     ]
    }
   ],
   "source": [
    "# Affichage des valeurs uniques pour chaque variable catégorielle\n",
    "for var in cat_var:\n",
    "    unique_values = df[var].unique()\n",
    "    print(f'\\nValeurs uniques pour {var}:\\n{unique_values}')"
   ]
  },
  {
   "cell_type": "code",
   "execution_count": 39,
   "id": "6dba5408-c25b-482c-bbc5-573e04887ea3",
   "metadata": {
    "tags": []
   },
   "outputs": [],
   "source": [
    "# Créer un dictionnaire de groupes logiques pour specialservicetype\n",
    "group_mapping = {\n",
    "    'Pas de service special' : ['No', 'No action (not false alarm)'],\n",
    "    'RTC': ['RTC'],\n",
    "    \"Réponse d'urgence\": ['Medical Incident', 'Medical Incident - Co-responder', 'Suicide/attempts', 'Rescue'],\n",
    "    'HazMat et évacuation': ['Spills and Leaks (not RTC)', 'Hazardous Materials incident', 'Evacuation (no fire)'],\n",
    "    'Accès et sauvetage ': ['Lift Release', 'Effecting entry/exit', 'Removal of objects from people'],\n",
    "    'Eau' : ['Flooding', 'Rescue or evacuation from water', 'Water provision'],\n",
    "    'Autres': ['Flooding', 'Making Safe (not RTC)', 'Other Transport incident',\n",
    "                    'Assist other agencies', 'Advice Only', 'Stand By', 'Other rescue/release of persons']\n",
    "}\n",
    "\n",
    "df['SpecialServiceType'] = df['SpecialServiceType'].apply(lambda x: next((group for group, values in group_mapping.items() if x in values), x))"
   ]
  },
  {
   "cell_type": "code",
   "execution_count": 40,
   "id": "7777652e-54d5-4ed0-ac5e-3eaba436f57e",
   "metadata": {
    "tags": []
   },
   "outputs": [],
   "source": [
    "# Créer un dictionnaire de groupes logiques pour propertycategory\n",
    "group_mapping2 = {\n",
    "    'Résidentiel' : ['Dwelling', 'Other Residential'], \n",
    "    'Véhicule' : ['Road Vehicle', 'Rail Vehicle', 'Aircraft', 'Boat'],\n",
    "    'Extérieur' : ['Outdoor', 'Non Residential', 'Outdoor Structure']\n",
    "}\n",
    "\n",
    "df['PropertyCategory'] = df['PropertyCategory'].apply(lambda x: next((group for group, values in group_mapping2.items() if x in values), x))"
   ]
  },
  {
   "cell_type": "code",
   "execution_count": 41,
   "id": "b43cae96-3049-4d8d-b850-94e4bc89014d",
   "metadata": {
    "tags": []
   },
   "outputs": [],
   "source": [
    "# Créer un dictionnaire de groupes logiques pour AddressQualifier\n",
    "group_mapping3 = {\n",
    "    'Localisation précise' : ['Correct incident location', 'Within same building', 'Nearby address - no building in street', 'Nearby address - street not listed in gazetteer'],\n",
    "    'Véhicule ou rue' : ['On land associated with building', 'In street outside gazetteer location', 'In street close to gazetteer location', 'In street remote from gazetteer location'],\n",
    "    'Extérieur - Eau' : ['Open land/water - nearest gazetteer location'],\n",
    "    'Extérieur - Route' : ['On motorway / elevated road'],\n",
    "    'Extérieur - Ferroviaire' : ['Railway land or rolling stock']\n",
    "}\n",
    "\n",
    "df['AddressQualifier'] = df['AddressQualifier'].apply(lambda x: next((group for group, values in group_mapping3.items() if x in values), x))"
   ]
  },
  {
   "cell_type": "code",
   "execution_count": 42,
   "id": "38790f69-e9ee-44cb-8251-3bf989e1a251",
   "metadata": {
    "tags": []
   },
   "outputs": [],
   "source": [
    "# Créer un dictionnaire de groupes logiques pour IncGeo_BoroughName\n",
    "group_mapping4 = {\n",
    "    'SUD EST' : ['BEXLEY', 'BROMLEY', 'GREENWICH', 'LEWISHAM', 'SOUTHWARK'],\n",
    "    'NORD EST' : ['HAVERING', 'REDBRIDGE', 'NEWHAM', 'BARKING AND DAGENHAM', 'WALTHAM FOREST', 'TOWER HAMLETS'],\n",
    "    'NORD' : ['ENFIELD', 'BARNET', 'HARINGEY', 'HACKNEY', 'ISLINGTON', 'CAMDEN', 'WESTMINSTER'],\n",
    "    'OUEST' : ['HARROW', 'HILLINGDON', 'BRENT', 'EALING', 'HOUNSLOW', 'HAMMERSMITH AND FULHAM', 'KENSINGTON AND CHELSEA'],\n",
    "    'SUD OUEST' : ['RICHMOND UPON THAMES', 'KINGSTON UPON THAMES', 'WANDSWORTH', 'MERTON', 'LAMBETH', 'SUTTON', 'CROYDON'],\n",
    "    'CITY' : ['CITY OF LONDON']\n",
    "}\n",
    "\n",
    "df['IncGeo_BoroughName'] = df['IncGeo_BoroughName'].apply(lambda x: next((group for group, values in group_mapping4.items() if x in values), x))"
   ]
  },
  {
   "cell_type": "code",
   "execution_count": 43,
   "id": "4cf084a1-7c7c-4d29-aad1-f6c0d2049815",
   "metadata": {
    "tags": []
   },
   "outputs": [],
   "source": [
    "# Créer un dictionnaire de groupes logiques pour les localisations\n",
    "group_mapping5 = {\n",
    "    \"SUD EST\": [\"Deptford\", \"Homerton\", \"Tooting\", \"Stratford\", \"Mitcham\", \"Brixton\", \"Peckham\", \"Poplar\", \"Acton\", \"West Hampstead\", \"Millwall\", \"Southgate\", \"Tottenham\", \"Woodford\", \"East Ham\", \"Leyton\", \"Wimbledon\", \"Ilford\", \"Sidcup\", \"Kentish Town\", \"Old Kent Road\", \"Plaistow\", \"Eltham\", \"New Malden\", \"East Greenwich\", \"Euston\"],\n",
    "    \"NORD EST\": [\"Plumstead\", \"Hornsey\", \"Southall\", \"Enfield\", \"Edmonton\", \"Hillingdon\", \"Norbury\", \"Leytonstone\", \"Heston\", \"Twickenham\", \"Barking\", \"Romford\", \"Addington\", \"Bexley\", \"Lee Green\", \"Sutton\", \"Erith\", \"Chingford\", \"Biggin Hill\", \"New Cross\", \"Mill Hill\", \"Purley\", \"Wallington\", \"Harold Hill\", \"Hainault\", \"Dagenham\", \"Staines\", \"Dartford\", \"Fordbridge\", \"Hornchurch\"],\n",
    "    \"NORD\": [\"Islington\", \"North Kensington\", \"Paddington\", \"Holloway\", \"Shoreditch\", \"Wembley\", \"Hendon\", \"Stoke Newington\", \"Finchley\", \"Walthamstow\", \"Willesden\", \"Lewisham\", \"Northolt\", \"Orpington\", \"Bethnal Green\", \"Woodside\", \"Forest Hill\", \"West Norwood\", \"Hertfordshire\"],\n",
    "    \"OUEST\": [\"Park Royal\", \"Kensington\", \"Fulham\", \"Chiswick\", \"Ruislip\", \"Feltham\", \"Harrow\", \"Ealing\", \"Richmond\"],\n",
    "    \"SUD OUEST\": [\"Lambeth\", \"Clapham\", \"Putney\", \"Battersea\", \"Kingston\", \"Hayes\", \"Beckenham\", \"West Norwood\", \"Surbiton\"],\n",
    "    \"CITY\": [\"Soho\", \"Whitechapel\", \"Dowgate\", \"Dockhead\", \"Shadwell\", \"Croydon\", \"Wennington\", \"Heathrow\", \"Chelsea\", \"Hammersmith\", \"Greenwich\", \"Wandsworth\", \"Barnet\", \"Stanmore\", \"Bromley\"]\n",
    "}\n",
    "\n",
    "df['IncidentStationGround'] = df['IncidentStationGround'].apply(lambda x: next((group for group, values in group_mapping5.items() if x in values), x))\n",
    "df['FirstPumpArriving_DeployedFromStation'] = df['FirstPumpArriving_DeployedFromStation'].apply(lambda x: next((group for group, values in group_mapping5.items() if x in values), x))"
   ]
  },
  {
   "cell_type": "code",
   "execution_count": 44,
   "id": "adf84643-2596-4a57-83d8-5618d59df781",
   "metadata": {
    "tags": []
   },
   "outputs": [],
   "source": [
    "# Créer un dictionnaire de groupes logiques pour les retards\n",
    "group_mapping6 = {\n",
    "    'Pas de retard' : ['0'],\n",
    "    'Problème d\\'adresse': ['Address incomplete/wrong'],\n",
    "    'Retenu': ['Arrived but held up - Other reason', 'Not held up'],\n",
    "    'Problèmes liés au trafic ou aux conditions météorologiques': ['Traffic calming measures', 'Traffic, roadworks, etc', 'Weather conditions'],\n",
    "    'Problèmes lors de la mobilisation': ['At drills when mobilised', 'Mob/Radio problems when mobilised', 'On outside duty when mobilised'],\n",
    "    'Défaut d\\'appareil/équipement': ['Appliance/Equipment defect']\n",
    "}\n",
    "\n",
    "df['DelayCode_Description'] = df['DelayCode_Description'].apply(lambda x: next((group for group, values in group_mapping6.items() if x in values), x))"
   ]
  },
  {
   "cell_type": "code",
   "execution_count": 45,
   "id": "85d48094-9ea9-4612-b4df-96bf9c5872d9",
   "metadata": {
    "tags": []
   },
   "outputs": [
    {
     "data": {
      "text/html": [
       "<div>\n",
       "<style scoped>\n",
       "    .dataframe tbody tr th:only-of-type {\n",
       "        vertical-align: middle;\n",
       "    }\n",
       "\n",
       "    .dataframe tbody tr th {\n",
       "        vertical-align: top;\n",
       "    }\n",
       "\n",
       "    .dataframe thead th {\n",
       "        text-align: right;\n",
       "    }\n",
       "</style>\n",
       "<table border=\"1\" class=\"dataframe\">\n",
       "  <thead>\n",
       "    <tr style=\"text-align: right;\">\n",
       "      <th></th>\n",
       "      <th>IncidentGroup</th>\n",
       "      <th>SpecialServiceType</th>\n",
       "      <th>PropertyCategory</th>\n",
       "      <th>AddressQualifier</th>\n",
       "      <th>IncGeo_BoroughName</th>\n",
       "      <th>IncidentStationGround</th>\n",
       "      <th>FirstPumpArriving_DeployedFromStation</th>\n",
       "      <th>TurnoutTimeSeconds</th>\n",
       "      <th>TravelTimeSeconds</th>\n",
       "      <th>DelayCode_Description</th>\n",
       "      <th>Distance</th>\n",
       "      <th>Year</th>\n",
       "      <th>Month</th>\n",
       "      <th>Weekday</th>\n",
       "      <th>DayOfMonth</th>\n",
       "    </tr>\n",
       "  </thead>\n",
       "  <tbody>\n",
       "    <tr>\n",
       "      <th>0</th>\n",
       "      <td>False Alarm</td>\n",
       "      <td>Pas de service special</td>\n",
       "      <td>Résidentiel</td>\n",
       "      <td>Localisation précise</td>\n",
       "      <td>SUD EST</td>\n",
       "      <td>NORD EST</td>\n",
       "      <td>NORD EST</td>\n",
       "      <td>44.0</td>\n",
       "      <td>121.0</td>\n",
       "      <td>Pas de retard</td>\n",
       "      <td>4.814100</td>\n",
       "      <td>2016</td>\n",
       "      <td>January</td>\n",
       "      <td>Friday</td>\n",
       "      <td>1</td>\n",
       "    </tr>\n",
       "    <tr>\n",
       "      <th>1</th>\n",
       "      <td>Fire</td>\n",
       "      <td>Pas de service special</td>\n",
       "      <td>Résidentiel</td>\n",
       "      <td>Véhicule ou rue</td>\n",
       "      <td>SUD EST</td>\n",
       "      <td>NORD EST</td>\n",
       "      <td>NORD EST</td>\n",
       "      <td>61.0</td>\n",
       "      <td>98.0</td>\n",
       "      <td>Pas de retard</td>\n",
       "      <td>4.814100</td>\n",
       "      <td>2016</td>\n",
       "      <td>January</td>\n",
       "      <td>Friday</td>\n",
       "      <td>1</td>\n",
       "    </tr>\n",
       "    <tr>\n",
       "      <th>2</th>\n",
       "      <td>Fire</td>\n",
       "      <td>Pas de service special</td>\n",
       "      <td>Résidentiel</td>\n",
       "      <td>Véhicule ou rue</td>\n",
       "      <td>SUD EST</td>\n",
       "      <td>NORD EST</td>\n",
       "      <td>NORD EST</td>\n",
       "      <td>50.0</td>\n",
       "      <td>284.0</td>\n",
       "      <td>Pas de retard</td>\n",
       "      <td>4.814100</td>\n",
       "      <td>2016</td>\n",
       "      <td>January</td>\n",
       "      <td>Friday</td>\n",
       "      <td>1</td>\n",
       "    </tr>\n",
       "    <tr>\n",
       "      <th>3</th>\n",
       "      <td>Special Service</td>\n",
       "      <td>RTC</td>\n",
       "      <td>Véhicule</td>\n",
       "      <td>Véhicule ou rue</td>\n",
       "      <td>NORD</td>\n",
       "      <td>NORD EST</td>\n",
       "      <td>NORD EST</td>\n",
       "      <td>34.0</td>\n",
       "      <td>238.0</td>\n",
       "      <td>Pas de retard</td>\n",
       "      <td>1.918326</td>\n",
       "      <td>2016</td>\n",
       "      <td>January</td>\n",
       "      <td>Friday</td>\n",
       "      <td>1</td>\n",
       "    </tr>\n",
       "    <tr>\n",
       "      <th>4</th>\n",
       "      <td>Special Service</td>\n",
       "      <td>RTC</td>\n",
       "      <td>Véhicule</td>\n",
       "      <td>Véhicule ou rue</td>\n",
       "      <td>NORD</td>\n",
       "      <td>NORD EST</td>\n",
       "      <td>NORD EST</td>\n",
       "      <td>74.0</td>\n",
       "      <td>294.0</td>\n",
       "      <td>Pas de retard</td>\n",
       "      <td>1.918326</td>\n",
       "      <td>2016</td>\n",
       "      <td>January</td>\n",
       "      <td>Friday</td>\n",
       "      <td>1</td>\n",
       "    </tr>\n",
       "  </tbody>\n",
       "</table>\n",
       "</div>"
      ],
      "text/plain": [
       "     IncidentGroup      SpecialServiceType PropertyCategory  \\\n",
       "0      False Alarm  Pas de service special      Résidentiel   \n",
       "1             Fire  Pas de service special      Résidentiel   \n",
       "2             Fire  Pas de service special      Résidentiel   \n",
       "3  Special Service                     RTC         Véhicule   \n",
       "4  Special Service                     RTC         Véhicule   \n",
       "\n",
       "       AddressQualifier IncGeo_BoroughName IncidentStationGround  \\\n",
       "0  Localisation précise            SUD EST              NORD EST   \n",
       "1       Véhicule ou rue            SUD EST              NORD EST   \n",
       "2       Véhicule ou rue            SUD EST              NORD EST   \n",
       "3       Véhicule ou rue               NORD              NORD EST   \n",
       "4       Véhicule ou rue               NORD              NORD EST   \n",
       "\n",
       "  FirstPumpArriving_DeployedFromStation  TurnoutTimeSeconds  \\\n",
       "0                              NORD EST                44.0   \n",
       "1                              NORD EST                61.0   \n",
       "2                              NORD EST                50.0   \n",
       "3                              NORD EST                34.0   \n",
       "4                              NORD EST                74.0   \n",
       "\n",
       "   TravelTimeSeconds DelayCode_Description  Distance  Year    Month Weekday  \\\n",
       "0              121.0         Pas de retard  4.814100  2016  January  Friday   \n",
       "1               98.0         Pas de retard  4.814100  2016  January  Friday   \n",
       "2              284.0         Pas de retard  4.814100  2016  January  Friday   \n",
       "3              238.0         Pas de retard  1.918326  2016  January  Friday   \n",
       "4              294.0         Pas de retard  1.918326  2016  January  Friday   \n",
       "\n",
       "   DayOfMonth  \n",
       "0           1  \n",
       "1           1  \n",
       "2           1  \n",
       "3           1  \n",
       "4           1  "
      ]
     },
     "execution_count": 45,
     "metadata": {},
     "output_type": "execute_result"
    }
   ],
   "source": [
    "df.head()"
   ]
  },
  {
   "cell_type": "code",
   "execution_count": 46,
   "id": "e79609d5-1940-42e8-b901-ca3bb8aafc56",
   "metadata": {
    "tags": []
   },
   "outputs": [
    {
     "name": "stdout",
     "output_type": "stream",
     "text": [
      "\n",
      "Valeurs uniques pour IncidentGroup:\n",
      "['False Alarm' 'Fire' 'Special Service']\n",
      "\n",
      "Valeurs uniques pour SpecialServiceType:\n",
      "['Pas de service special' 'RTC' 'Eau' 'Accès et sauvetage ' 'Autres'\n",
      " 'HazMat et évacuation' \"Réponse d'urgence\" 'Animal assistance incidents']\n",
      "\n",
      "Valeurs uniques pour PropertyCategory:\n",
      "['Résidentiel' 'Véhicule' 'Extérieur']\n",
      "\n",
      "Valeurs uniques pour AddressQualifier:\n",
      "['Localisation précise' 'Véhicule ou rue' 'Extérieur - Eau'\n",
      " 'Extérieur - Route' 'Extérieur - Ferroviaire']\n",
      "\n",
      "Valeurs uniques pour IncGeo_BoroughName:\n",
      "['SUD EST' 'NORD' 'NORD EST' 'SUD OUEST' 'OUEST' 'CITY']\n",
      "\n",
      "Valeurs uniques pour IncidentStationGround:\n",
      "['NORD EST' 'SUD EST' 'CITY' 'SUD OUEST' 'OUEST' 'NORD']\n",
      "\n",
      "Valeurs uniques pour FirstPumpArriving_DeployedFromStation:\n",
      "['NORD EST' 'SUD EST' 'NORD' 'CITY' 'SUD OUEST' 'OUEST']\n",
      "\n",
      "Valeurs uniques pour DelayCode_Description:\n",
      "['Pas de retard' \"Problème d'adresse\" 'Retenu'\n",
      " 'Problèmes liés au trafic ou aux conditions météorologiques'\n",
      " 'Problèmes lors de la mobilisation' \"Défaut d'appareil/équipement\"]\n",
      "\n",
      "Valeurs uniques pour Month:\n",
      "['January' 'February' 'March' 'April' 'May' 'June' 'July' 'August'\n",
      " 'September' 'October' 'November' 'December']\n",
      "\n",
      "Valeurs uniques pour Weekday:\n",
      "['Friday' 'Saturday' 'Sunday' 'Monday' 'Tuesday' 'Wednesday' 'Thursday']\n"
     ]
    }
   ],
   "source": [
    "# Affichage des valeurs uniques pour chaque variable catégorielle\n",
    "for var in cat_var:\n",
    "    unique_values = df[var].unique()\n",
    "    print(f'\\nValeurs uniques pour {var}:\\n{unique_values}')"
   ]
  },
  {
   "cell_type": "code",
   "execution_count": 47,
   "id": "590e285d-64d2-4648-b128-d143417a818a",
   "metadata": {
    "scrolled": true,
    "tags": []
   },
   "outputs": [
    {
     "name": "stdout",
     "output_type": "stream",
     "text": [
      "IncidentGroup                            0\n",
      "SpecialServiceType                       0\n",
      "PropertyCategory                         0\n",
      "AddressQualifier                         0\n",
      "IncGeo_BoroughName                       0\n",
      "IncidentStationGround                    0\n",
      "FirstPumpArriving_DeployedFromStation    0\n",
      "TurnoutTimeSeconds                       0\n",
      "TravelTimeSeconds                        0\n",
      "DelayCode_Description                    0\n",
      "Distance                                 0\n",
      "Year                                     0\n",
      "Month                                    0\n",
      "Weekday                                  0\n",
      "DayOfMonth                               0\n",
      "dtype: int64\n"
     ]
    }
   ],
   "source": [
    "print(df.isnull().sum())"
   ]
  },
  {
   "cell_type": "code",
   "execution_count": 48,
   "id": "0db76924",
   "metadata": {
    "tags": []
   },
   "outputs": [
    {
     "data": {
      "text/plain": [
       "(1808906, 15)"
      ]
     },
     "execution_count": 48,
     "metadata": {},
     "output_type": "execute_result"
    }
   ],
   "source": [
    "df.shape"
   ]
  },
  {
   "cell_type": "code",
   "execution_count": 49,
   "id": "d9f6bd86-732e-49f5-8e63-02002144975e",
   "metadata": {
    "tags": []
   },
   "outputs": [],
   "source": [
    "from sklearn.decomposition import PCA\n",
    "import pandas as pd\n",
    "from sklearn.model_selection import train_test_split\n",
    "from sklearn.ensemble import RandomForestClassifier\n",
    "from sklearn.metrics import accuracy_score\n",
    "import matplotlib.pyplot as plt\n",
    "from sklearn.preprocessing import OneHotEncoder, StandardScaler\n",
    "from sklearn.metrics import r2_score"
   ]
  },
  {
   "cell_type": "code",
   "execution_count": 50,
   "id": "0e2a3af7",
   "metadata": {
    "tags": []
   },
   "outputs": [],
   "source": [
    "# Définition des classes en fonction des intervalles de temps spécifiques\n",
    "def assign_class_new(value):\n",
    "    if value < q1:\n",
    "        return 0  \n",
    "    elif q1 <= value < q2:\n",
    "        return 1  \n",
    "    elif q2 <= value < q3:\n",
    "        return 2  \n",
    "    else:\n",
    "        return 3 \n",
    "     # Ajouter une colonne \"Class\" au DataFrame avec les nouvelles classes assignées\n",
    "df['Class'] = df['TravelTimeSeconds'].apply(assign_class_new)"
   ]
  },
  {
   "cell_type": "code",
   "execution_count": 51,
   "id": "6128a9fe",
   "metadata": {
    "tags": []
   },
   "outputs": [],
   "source": [
    "df.to_csv(\"df_preprocessed.csv\", index = False)"
   ]
  },
  {
   "cell_type": "code",
   "execution_count": 52,
   "id": "0f9f00eb-7cc3-4a8f-b2fb-525e6c9c49be",
   "metadata": {
    "tags": []
   },
   "outputs": [],
   "source": [
    "# Séparer les données\n",
    "X = df.drop(['TravelTimeSeconds', 'Class'], axis=1)\n",
    "y = df['Class']\n",
    "\n",
    "cat_var = list(X.select_dtypes(include=['object']).columns) \n",
    "num_var = list(X.select_dtypes(exclude=['object', 'datetime64']).columns)\n",
    "\n",
    "# Diviser les données en train et test\n",
    "X_train, X_test, y_train, y_test = train_test_split(X, y, test_size=0.2, random_state=42)\n",
    "\n",
    "# Encodage one-hot\n",
    "encoder = OneHotEncoder()\n",
    "X_train_encoded = encoder.fit_transform(X_train[cat_var]).toarray()\n",
    "X_test_encoded = encoder.transform(X_test[cat_var]).toarray()\n",
    "\n",
    "# StandardScaler\n",
    "scaler = StandardScaler()\n",
    "X_train_scaled = scaler.fit_transform(X_train[num_var])\n",
    "X_test_scaled = scaler.transform(X_test[num_var])\n",
    "X_train_final = np.concatenate((X_train_encoded, X_train_scaled), axis=1)\n",
    "X_test_final = np.concatenate((X_test_encoded, X_test_scaled), axis=1)"
   ]
  },
  {
   "cell_type": "code",
   "execution_count": 53,
   "id": "3fdf62a5",
   "metadata": {
    "tags": []
   },
   "outputs": [
    {
     "name": "stdout",
     "output_type": "stream",
     "text": [
      "Précision du modèle : 0.761052235876854\n"
     ]
    }
   ],
   "source": [
    "# Modèle\n",
    "model = RandomForestClassifier(random_state=42)\n",
    "model.fit(X_train_final, y_train)\n",
    "predictions = model.predict(X_test_final)\n",
    "\n",
    "# Calculer la précision du modèle\n",
    "accuracy = accuracy_score(y_test, predictions)\n",
    "print(\"Précision du modèle :\", accuracy)"
   ]
  },
  {
   "cell_type": "code",
   "execution_count": 54,
   "id": "b6e11647",
   "metadata": {
    "tags": []
   },
   "outputs": [
    {
     "data": {
      "text/plain": [
       "['classification_pompier_line']"
      ]
     },
     "execution_count": 54,
     "metadata": {},
     "output_type": "execute_result"
    }
   ],
   "source": [
    "import joblib\n",
    "joblib.dump(model, \"classification_pompier_line\", compress=('gzip', 3))"
   ]
  },
  {
   "cell_type": "code",
   "execution_count": 30,
   "id": "b66448a5",
   "metadata": {
    "tags": []
   },
   "outputs": [],
   "source": [
    "y_pred_model_class = model.predict(X_test_final)"
   ]
  },
  {
   "cell_type": "code",
   "execution_count": 31,
   "id": "c833953f",
   "metadata": {
    "tags": []
   },
   "outputs": [
    {
     "name": "stdout",
     "output_type": "stream",
     "text": [
      "score: 0.5840869975774912\n"
     ]
    }
   ],
   "source": [
    "print(\"score:\", r2_score(y_test, y_pred_model_class))"
   ]
  },
  {
   "cell_type": "code",
   "execution_count": 32,
   "id": "ba403b57-3db7-49be-812d-5d3e09a8201d",
   "metadata": {
    "tags": []
   },
   "outputs": [
    {
     "data": {
      "image/png": "[encoded data removed]",
      "text/plain": [
       "<Figure size 800x600 with 1 Axes>"
      ]
     },
     "metadata": {},
     "output_type": "display_data"
    },
    {
     "name": "stdout",
     "output_type": "stream",
     "text": [
      "Rapport de classification :\n",
      "               precision    recall  f1-score   support\n",
      "\n",
      "           0       0.76      0.80      0.78     89816\n",
      "           1       0.72      0.74      0.73     90502\n",
      "           2       0.75      0.66      0.70     90149\n",
      "           3       0.81      0.84      0.82     91315\n",
      "\n",
      "    accuracy                           0.76    361782\n",
      "   macro avg       0.76      0.76      0.76    361782\n",
      "weighted avg       0.76      0.76      0.76    361782\n",
      "\n"
     ]
    }
   ],
   "source": [
    "from sklearn.metrics import confusion_matrix, classification_report\n",
    "import seaborn as sns\n",
    "import matplotlib.pyplot as plt\n",
    "\n",
    "# Matrice de corrélation de classification\n",
    "conf_matrix = confusion_matrix(y_test, predictions)\n",
    "\n",
    "# Plot\n",
    "plt.figure(figsize=(8, 6))\n",
    "sns.heatmap(conf_matrix, annot=True, fmt='d', cmap='Blues', cbar=False)\n",
    "plt.xlabel('Prédiction')\n",
    "plt.ylabel('Vraie classe')\n",
    "plt.title('Matrice de corrélation de classification')\n",
    "plt.show()\n",
    "\n",
    "# Rapport de classification\n",
    "class_report = classification_report(y_test, predictions)\n",
    "print(\"Rapport de classification :\\n\", class_report)"
   ]
  },
  {
   "cell_type": "code",
   "execution_count": 25,
   "id": "c5d9e44a-b712-4c14-9d1a-49c0aa014f1d",
   "metadata": {
    "tags": []
   },
   "outputs": [
    {
     "name": "stdout",
     "output_type": "stream",
     "text": [
      "Exemples de données prédites vs réelles :\n"
     ]
    },
    {
     "data": {
      "text/html": [
       "<div>\n",
       "<style scoped>\n",
       "    .dataframe tbody tr th:only-of-type {\n",
       "        vertical-align: middle;\n",
       "    }\n",
       "\n",
       "    .dataframe tbody tr th {\n",
       "        vertical-align: top;\n",
       "    }\n",
       "\n",
       "    .dataframe thead th {\n",
       "        text-align: right;\n",
       "    }\n",
       "</style>\n",
       "<table border=\"1\" class=\"dataframe\">\n",
       "  <thead>\n",
       "    <tr style=\"text-align: right;\">\n",
       "      <th></th>\n",
       "      <th>Actual</th>\n",
       "      <th>Predicted</th>\n",
       "    </tr>\n",
       "  </thead>\n",
       "  <tbody>\n",
       "    <tr>\n",
       "      <th>967472</th>\n",
       "      <td>0</td>\n",
       "      <td>0</td>\n",
       "    </tr>\n",
       "    <tr>\n",
       "      <th>313784</th>\n",
       "      <td>0</td>\n",
       "      <td>0</td>\n",
       "    </tr>\n",
       "    <tr>\n",
       "      <th>1681317</th>\n",
       "      <td>0</td>\n",
       "      <td>0</td>\n",
       "    </tr>\n",
       "    <tr>\n",
       "      <th>997793</th>\n",
       "      <td>2</td>\n",
       "      <td>2</td>\n",
       "    </tr>\n",
       "    <tr>\n",
       "      <th>886078</th>\n",
       "      <td>1</td>\n",
       "      <td>1</td>\n",
       "    </tr>\n",
       "    <tr>\n",
       "      <th>1057716</th>\n",
       "      <td>0</td>\n",
       "      <td>0</td>\n",
       "    </tr>\n",
       "    <tr>\n",
       "      <th>996166</th>\n",
       "      <td>1</td>\n",
       "      <td>1</td>\n",
       "    </tr>\n",
       "    <tr>\n",
       "      <th>437037</th>\n",
       "      <td>2</td>\n",
       "      <td>2</td>\n",
       "    </tr>\n",
       "    <tr>\n",
       "      <th>864254</th>\n",
       "      <td>1</td>\n",
       "      <td>1</td>\n",
       "    </tr>\n",
       "    <tr>\n",
       "      <th>1384095</th>\n",
       "      <td>2</td>\n",
       "      <td>2</td>\n",
       "    </tr>\n",
       "  </tbody>\n",
       "</table>\n",
       "</div>"
      ],
      "text/plain": [
       "         Actual  Predicted\n",
       "967472        0          0\n",
       "313784        0          0\n",
       "1681317       0          0\n",
       "997793        2          2\n",
       "886078        1          1\n",
       "1057716       0          0\n",
       "996166        1          1\n",
       "437037        2          2\n",
       "864254        1          1\n",
       "1384095       2          2"
      ]
     },
     "execution_count": 25,
     "metadata": {},
     "output_type": "execute_result"
    }
   ],
   "source": [
    "predictions = model.predict(X_test_final)\n",
    "\n",
    "# Créer un DataFrame avec les données de test, les valeurs prédites et les valeurs réelles\n",
    "results_df = pd.DataFrame({'Actual': y_test, 'Predicted': predictions})\n",
    "\n",
    "# Afficher quelques exemples\n",
    "print(\"Exemples de données prédites vs réelles :\")\n",
    "results_df.head(10)"
   ]
  },
  {
   "cell_type": "code",
   "execution_count": 26,
   "id": "62ddec08-c450-4489-929f-53928e2aa023",
   "metadata": {
    "tags": []
   },
   "outputs": [
    {
     "data": {
      "image/png": "[encoded data removed]",
      "text/plain": [
       "<Figure size 720x432 with 1 Axes>"
      ]
     },
     "metadata": {
      "needs_background": "light"
     },
     "output_type": "display_data"
    }
   ],
   "source": [
    "# Choisir un quartier spécifique\n",
    "borough_name = 'SUD OUEST'\n",
    "day = 'Tuesday'\n",
    "incident_group = 'False Alarm'\n",
    "# Filtrer les données de test pour ce quartier spécifique\n",
    "borough_data = X_test[(X_test['IncGeo_BoroughName'] == borough_name) & (X_test['Weekday'] == day) & (X_test['IncidentGroup'] == incident_group)]\n",
    "\n",
    "# Récupérer les index des lignes correspondant au quartier spécifique dans les données de test\n",
    "borough_indices = borough_data.index\n",
    "\n",
    "# Filtrer les résultats pour les index correspondant au quartier spécifique\n",
    "borough_results = results_df.loc[borough_indices]\n",
    "\n",
    "# Tracer la différence entre les valeurs prédites et réelles pour ce quartier\n",
    "plt.figure(figsize=(10, 6))\n",
    "sns.histplot(borough_results['Predicted'] - borough_results['Actual'], bins=20, kde=True)\n",
    "plt.xlabel('Difference entre les valeurs réelles et prédites')\n",
    "plt.ylabel('Nombre')\n",
    "plt.title('Difference entre les valeurs réelles et prédites : Sud ouest, Mardi, Fausse alerte')\n",
    "plt.show()"
   ]
  },
  {
   "cell_type": "code",
   "execution_count": 27,
   "id": "9d03ba8a-5daf-46e7-a399-f20ccfa2041c",
   "metadata": {
    "tags": []
   },
   "outputs": [
    {
     "data": {
      "image/png": "[encoded data removed]",
      "text/plain": [
       "<Figure size 1000x600 with 1 Axes>"
      ]
     },
     "metadata": {},
     "output_type": "display_data"
    }
   ],
   "source": [
    "# Choisissez un quartier spécifique\n",
    "borough_name = 'NORD'\n",
    "day = 'Monday'\n",
    "incident_group = 'Special Service'\n",
    "# Filtrer les données de test pour ce quartier spécifique\n",
    "borough_data = X_test[(X_test['IncGeo_BoroughName'] == borough_name) & (X_test['Weekday'] == day) & (X_test['IncidentGroup'] == incident_group)]\n",
    "\n",
    "# Récupérer les index des lignes correspondant au quartier spécifique dans les données de test\n",
    "borough_indices = borough_data.index\n",
    "\n",
    "# Filtrer les résultats pour les index correspondant au quartier spécifique\n",
    "borough_results = results_df.loc[borough_indices]\n",
    "\n",
    "# Tracer la différence entre les valeurs prédites et réelles pour ce quartier\n",
    "plt.figure(figsize=(10, 6))\n",
    "sns.histplot(borough_results['Predicted'] - borough_results['Actual'], bins=20, kde=True)\n",
    "plt.xlabel('Difference entre les valeurs réelles et prédites')\n",
    "plt.ylabel('Nombre')\n",
    "plt.title('Difference entre les valeurs réelles et prédites : Nord, Lundi, Services spéciaux')\n",
    "plt.show()"
   ]
  },
  {
   "cell_type": "code",
   "execution_count": 27,
   "id": "c2991d13-71fb-4692-8db1-f9e74193e26e",
   "metadata": {
    "tags": []
   },
   "outputs": [
    {
     "data": {
      "image/png": "[encoded data removed]",
      "text/plain": [
       "<Figure size 720x432 with 1 Axes>"
      ]
     },
     "metadata": {
      "needs_background": "light"
     },
     "output_type": "display_data"
    }
   ],
   "source": [
    "import matplotlib.pyplot as plt\n",
    "\n",
    "feature_importances = model.feature_importances_\n",
    "\n",
    "feature_names = list(df.drop(['TravelTimeSeconds', 'Class'], axis=1).columns)\n",
    "\n",
    "# Récupérer les cinq premières caractéristiques les plus importantes\n",
    "top_features = [feature for _, feature in sorted(zip(feature_importances, feature_names), reverse=True)[:5]]\n",
    "\n",
    "# Récupérer les importances des cinq premières caractéristiques\n",
    "top_importances = [importance for importance, _ in sorted(zip(feature_importances, feature_names), reverse=True)[:5]]\n",
    "\n",
    "# Créer un diagramme à barres pour visualiser l'importance des cinq premières caractéristiques\n",
    "plt.figure(figsize=(10, 6))\n",
    "bars = plt.barh(top_features, top_importances, color='skyblue')\n",
    "plt.xlabel('Importance')\n",
    "plt.ylabel('Caractéristiques')\n",
    "plt.title('Importance des cinq premières caractéristiques')\n",
    "\n",
    "plt.gca().invert_yaxis()\n",
    "\n",
    "plt.show()"
   ]
  },
  {
   "cell_type": "code",
   "execution_count": 28,
   "id": "da35ee63-c923-4d8d-9203-de412ac04563",
   "metadata": {
    "tags": []
   },
   "outputs": [
    {
     "data": {
      "image/png": "[encoded data removed]",
      "text/plain": [
       "<Figure size 936x936 with 1 Axes>"
      ]
     },
     "metadata": {
      "needs_background": "light"
     },
     "output_type": "display_data"
    }
   ],
   "source": [
    "from sklearn.decomposition import PCA\n",
    "\n",
    "pca = PCA(n_components=13)\n",
    "X_train_pca = pca.fit_transform(X_train_final)\n",
    "X_test_pca = pca.transform(X_test_final)\n",
    "\n",
    "# Tracer le cercle de corrélation\n",
    "explained_variance_ratio = pca.explained_variance_ratio_\n",
    "principal_components = pca.components_\n",
    "\n",
    "# Préparation des informations sur les composantes principales\n",
    "principal_components_reformatted = [(pc[0], pc[1]) for pc in principal_components]\n",
    "pc_infos = list(zip(explained_variance_ratio, principal_components_reformatted))\n",
    "\n",
    "# Labels pour les variables (concaténation des noms des variables catégorielles et numériques)\n",
    "cat_var = list(X.select_dtypes(include=['object']).columns)\n",
    "num_var = list(X.select_dtypes(exclude=['object', 'datetime64']).columns)\n",
    "labels = cat_var + num_var\n",
    "\n",
    "# Tracer le cercle de corrélation\n",
    "fig, ax = plt.subplots(figsize=(13, 13)) \n",
    "ax.set_xlim(-1, 1)\n",
    "ax.set_ylim(-1, 1)\n",
    "ax.axhline(0, color='black', linewidth=0.5)\n",
    "ax.axvline(0, color='black', linewidth=0.5)\n",
    "ax.set_aspect('equal', 'box')\n",
    "\n",
    "circle = plt.Circle((0, 0), 1, color='blue', fill=False)\n",
    "ax.add_artist(circle)\n",
    "    \n",
    "# Tracer les flèches et les labels\n",
    "for i, (explained_variance_ratio, coordinates) in enumerate(pc_infos):\n",
    "    x, y = coordinates\n",
    "    ax.arrow(0, 0, x, y, head_width=0.05, head_length=0.05, fc='r', ec='r')\n",
    "\n",
    "# Afficher les labels pour chaque variable\n",
    "for label, (x, y) in zip(labels, principal_components_reformatted):\n",
    "    ax.text(x, y, label, ha='right', va='top')\n",
    "\n",
    "# Configurer les axes et le titre\n",
    "ax.set_xlabel('Component 1')\n",
    "ax.set_ylabel('Component 2')\n",
    "ax.grid()\n",
    "plt.title('Correlation Circle')\n",
    "plt.show()"
   ]
  },
  {
   "cell_type": "code",
   "execution_count": null,
   "id": "98e8a38c-45e9-47eb-9b55-0c723f736c0e",
   "metadata": {},
   "outputs": [],
   "source": []
  },
  {
   "cell_type": "code",
   "execution_count": null,
   "id": "38107e63-a139-44fa-8761-eb2603c8ea5e",
   "metadata": {},
   "outputs": [],
   "source": []
  }
 ],
 "metadata": {
  "kernelspec": {
   "display_name": "Python 3 (ipykernel)",
   "language": "python",
   "name": "python3"
  },
  "language_info": {
   "codemirror_mode": {
    "name": "ipython",
    "version": 3
   },
   "file_extension": ".py",
   "mimetype": "text/x-python",
   "name": "python",
   "nbconvert_exporter": "python",
   "pygments_lexer": "ipython3",
   "version": "3.11.5"
  },
  "toc-autonumbering": false,
  "toc-showcode": false,
  "toc-showtags": true
 },
 "nbformat": 4,
 "nbformat_minor": 5
}
